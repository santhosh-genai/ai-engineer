{
 "cells": [
  {
   "cell_type": "markdown",
   "id": "ef1c0f02",
   "metadata": {},
   "source": [
    "# Welcome to Jupyter Notebooks!\n",
    "\n",
    "This is a markdown cell. You can use it to write formatted text, including:\n",
    "* Lists\n",
    "* **Bold text**\n",
    "* *Italic text*\n",
    "* And even equations: $E = mc^2$"
   ]
  },
  {
   "cell_type": "code",
   "execution_count": null,
   "id": "05f67d1a",
   "metadata": {},
   "outputs": [
    {
     "name": "stdout",
     "output_type": "stream",
     "text": [
      "Hello, Jupyter!\n",
      "5 + 3 = 8\n"
     ]
    }
   ],
   "source": [
    "# This is a code cell\n",
    "print('Hello, Jupyter!')\n",
    "\n",
    "# Let's do some basic math\n",
    "x = 5\n",
    "y = 3\n",
    "print(f'{x} + {y} = {x + y}')"
   ]
  },
  {
   "cell_type": "markdown",
   "id": "868a84b4",
   "metadata": {},
   "source": [
    "## Working with NumPy and Pandas\n",
    "\n",
    "Let's try some data analysis examples:"
   ]
  },
  {
   "cell_type": "code",
   "execution_count": 2,
   "id": "1bd4f314",
   "metadata": {},
   "outputs": [
    {
     "name": "stdout",
     "output_type": "stream",
     "text": [
      "NumPy array: [1 2 3 4 5]\n",
      "Mean value: 3.0\n",
      "\n",
      "Pandas DataFrame:\n"
     ]
    },
    {
     "data": {
      "text/html": [
       "<div>\n",
       "<style scoped>\n",
       "    .dataframe tbody tr th:only-of-type {\n",
       "        vertical-align: middle;\n",
       "    }\n",
       "\n",
       "    .dataframe tbody tr th {\n",
       "        vertical-align: top;\n",
       "    }\n",
       "\n",
       "    .dataframe thead th {\n",
       "        text-align: right;\n",
       "    }\n",
       "</style>\n",
       "<table border=\"1\" class=\"dataframe\">\n",
       "  <thead>\n",
       "    <tr style=\"text-align: right;\">\n",
       "      <th></th>\n",
       "      <th>Name</th>\n",
       "      <th>Age</th>\n",
       "      <th>City</th>\n",
       "    </tr>\n",
       "  </thead>\n",
       "  <tbody>\n",
       "    <tr>\n",
       "      <th>0</th>\n",
       "      <td>Alice</td>\n",
       "      <td>25</td>\n",
       "      <td>New York</td>\n",
       "    </tr>\n",
       "    <tr>\n",
       "      <th>1</th>\n",
       "      <td>Bob</td>\n",
       "      <td>30</td>\n",
       "      <td>London</td>\n",
       "    </tr>\n",
       "    <tr>\n",
       "      <th>2</th>\n",
       "      <td>Charlie</td>\n",
       "      <td>35</td>\n",
       "      <td>Paris</td>\n",
       "    </tr>\n",
       "  </tbody>\n",
       "</table>\n",
       "</div>"
      ],
      "text/plain": [
       "      Name  Age      City\n",
       "0    Alice   25  New York\n",
       "1      Bob   30    London\n",
       "2  Charlie   35     Paris"
      ]
     },
     "metadata": {},
     "output_type": "display_data"
    }
   ],
   "source": [
    "\n",
    "import numpy as np\n",
    "import pandas as pd\n",
    "from IPython.display import display\n",
    "\n",
    "# Create a sample array\n",
    "arr = np.array([1, 2, 3, 4, 5])\n",
    "print('NumPy array:', arr)\n",
    "print('Mean value:', arr.mean())\n",
    "\n",
    "# Create a simple DataFrame\n",
    "df = pd.DataFrame({\n",
    "    'Name': ['Alice', 'Bob', 'Charlie'],\n",
    "    'Age': [25, 30, 35],\n",
    "    'City': ['New York', 'London', 'Paris']\n",
    "})\n",
    "\n",
    "print('\\nPandas DataFrame:')\n",
    "display(df)"
   ]
  }
 ],
 "metadata": {
  "kernelspec": {
   "display_name": ".venv",
   "language": "python",
   "name": "python3"
  },
  "language_info": {
   "codemirror_mode": {
    "name": "ipython",
    "version": 3
   },
   "file_extension": ".py",
   "mimetype": "text/x-python",
   "name": "python",
   "nbconvert_exporter": "python",
   "pygments_lexer": "ipython3",
   "version": "3.13.3"
  }
 },
 "nbformat": 4,
 "nbformat_minor": 5
}
