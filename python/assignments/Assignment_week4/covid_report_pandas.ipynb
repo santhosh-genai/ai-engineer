{
 "cells": [
  {
   "cell_type": "code",
   "execution_count": 15,
   "id": "5a941ca1",
   "metadata": {},
   "outputs": [],
   "source": [
    "import pandas as pd"
   ]
  },
  {
   "cell_type": "code",
   "execution_count": 16,
   "id": "b825b118",
   "metadata": {},
   "outputs": [],
   "source": [
    "class Dataset:\n",
    "    def __init__(self, filepath):\n",
    "        self.filepath = filepath\n",
    "\n",
    "    def load_data(self):\n",
    "        self.data = pd.read_csv(self.filepath)\n",
    "        return self.data"
   ]
  },
  {
   "cell_type": "code",
   "execution_count": 17,
   "id": "eb99928f",
   "metadata": {},
   "outputs": [],
   "source": [
    "class CovidReport(Dataset):\n",
    "    def __init__(self, filepath):\n",
    "        super().__init__(filepath)\n",
    "        self.data = self.load_data()\n",
    "\n",
    "    # Summarize Case Counts by Region\n",
    "        # Display total confirmed, death, and recovered cases for each region.\n",
    "    def summarize_cases_by_region(self):\n",
    "        summary = self.data.groupby('WHO Region').agg({\n",
    "            'Confirmed': 'sum',\n",
    "            'Deaths': 'sum',\n",
    "            'Recovered': 'sum',\n",
    "            'Active': 'sum'\n",
    "        }).reset_index()\n",
    "        return summary\n",
    "\n",
    "    # Filter Low Case Records\n",
    "        # Exclude entries where confirmed cases are < 10.\n",
    "    def filter_low_case_records(self):\n",
    "        self.data = self.data[self.data['Confirmed'] >= 10]\n",
    "        return self.data\n",
    "    \n",
    "    # Identify Region with Highest Confirmed Cases\n",
    "    def region_with_highest_cases(self):\n",
    "        region = self.data.groupby('WHO Region')['Confirmed'].sum().idxmax()\n",
    "        return region\n",
    "\n",
    "    # Sort data by Confirmed Cases and Save to CSV\n",
    "    def save_sorted_data(self, output_filepath):\n",
    "        sorted_data = self.data.sort_values(by='Confirmed', ascending=False)\n",
    "        sorted_data.to_csv(output_filepath, index=False)\n",
    "        return sorted_data\n",
    "\n",
    "    # Top 5 Countries by Case Count\n",
    "    def top_5_countries_by_case_count(self):\n",
    "        return self.data.sort_values('Confirmed', ascending=False).head(5)[['Country/Region', 'Confirmed']]\n",
    "\n",
    "    # Region with Lowest Death Count\n",
    "    def region_with_lowest_death_count_cases(self):\n",
    "        region = self.data.groupby('WHO Region')['Deaths'].sum().idxmin()\n",
    "        return region\n",
    "    \n",
    "    # India Case Summary\n",
    "    def india_case_summary(self):\n",
    "        return self.data[self.data['Country/Region'] == 'India'].to_string(index=False)\n",
    "    \n",
    "    # Mortality Rate by Region\n",
    "    def mortality_rate_by_region(self):\n",
    "        region = self.data.groupby('WHO Region')['Deaths'].sum() / self.data.groupby('WHO Region')['Confirmed'].sum() * 100\n",
    "        return region\n",
    "    \n",
    "    # Recovery Rate by Region\n",
    "    def compare_recovery_rates(self):\n",
    "        region = self.data.groupby('WHO Region')['Recovered'].sum() / self.data.groupby('WHO Region')['Confirmed'].sum() * 100\n",
    "        return region\n",
    "\n",
    "    # Detect Outliers in Case Counts\n",
    "    def detect_outliers(self):\n",
    "        mean = self.data['Confirmed'].mean()\n",
    "        std_dev = self.data['Confirmed'].std()\n",
    "\n",
    "        threshold_upper = mean + 2 * std_dev\n",
    "        threshold_lower = mean - 2 * std_dev\n",
    "\n",
    "        outliers = self.data[(self.data['Confirmed'] > threshold_upper) | (self.data['Confirmed'] < threshold_lower)]\n",
    "        return outliers\n",
    "    \n",
    "    # Group by Country Counts\n",
    "    def group_by_country(self):\n",
    "        return self.data.groupby('Country/Region').size().reset_index(name='Counts')\n",
    "    \n",
    "    # Countries with Zero Recovered Cases\n",
    "    def country_with_zero_recovered_cases(self):\n",
    "        return self.data[self.data['Recovered'] == 0]['Country/Region']\n"
   ]
  },
  {
   "cell_type": "code",
   "execution_count": 18,
   "id": "2db3fca8",
   "metadata": {},
   "outputs": [
    {
     "name": "stdout",
     "output_type": "stream",
     "text": [
      "COVID-19 Cases Summary by Region:\n",
      "              WHO Region  Confirmed  Deaths  Recovered   Active\n",
      "0                 Africa     723207   12223     440645   270339\n",
      "1               Americas    8839286  342732    4468616  4027938\n",
      "2  Eastern Mediterranean    1490744   38339    1201400   251005\n",
      "3                 Europe    3299523  211144    1993723  1094656\n",
      "4        South-East Asia    1835297   41349    1156933   637015\n",
      "5        Western Pacific     292428    8249     206770    77409\n"
     ]
    }
   ],
   "source": [
    "if __name__ == \"__main__\": \n",
    "    report = CovidReport('c:/Users/2276038/Desktop/Learning/python/assignments/Assignment_week4/country_wise_latest.csv')\n",
    "    print(\"COVID-19 Cases Summary by Region:\")\n",
    "    print(report.summarize_cases_by_region())"
   ]
  },
  {
   "cell_type": "code",
   "execution_count": 19,
   "id": "c4a7a293",
   "metadata": {},
   "outputs": [
    {
     "name": "stdout",
     "output_type": "stream",
     "text": [
      "\n",
      "Filtered Data (Confirmed Cases >= 10):\n",
      "         Country/Region  Confirmed  Deaths  Recovered  Active  New cases  \\\n",
      "0           Afghanistan      36263    1269      25198    9796        106   \n",
      "1               Albania       4880     144       2745    1991        117   \n",
      "2               Algeria      27973    1163      18837    7973        616   \n",
      "3               Andorra        907      52        803      52         10   \n",
      "4                Angola        950      41        242     667         18   \n",
      "..                  ...        ...     ...        ...     ...        ...   \n",
      "182  West Bank and Gaza      10621      78       3752    6791        152   \n",
      "183      Western Sahara         10       1          8       1          0   \n",
      "184               Yemen       1691     483        833     375         10   \n",
      "185              Zambia       4552     140       2815    1597         71   \n",
      "186            Zimbabwe       2704      36        542    2126        192   \n",
      "\n",
      "     New deaths  New recovered  Deaths / 100 Cases  Recovered / 100 Cases  \\\n",
      "0            10             18                3.50                  69.49   \n",
      "1             6             63                2.95                  56.25   \n",
      "2             8            749                4.16                  67.34   \n",
      "3             0              0                5.73                  88.53   \n",
      "4             1              0                4.32                  25.47   \n",
      "..          ...            ...                 ...                    ...   \n",
      "182           2              0                0.73                  35.33   \n",
      "183           0              0               10.00                  80.00   \n",
      "184           4             36               28.56                  49.26   \n",
      "185           1            465                3.08                  61.84   \n",
      "186           2             24                1.33                  20.04   \n",
      "\n",
      "     Deaths / 100 Recovered  Confirmed last week  1 week change  \\\n",
      "0                      5.04                35526            737   \n",
      "1                      5.25                 4171            709   \n",
      "2                      6.17                23691           4282   \n",
      "3                      6.48                  884             23   \n",
      "4                     16.94                  749            201   \n",
      "..                      ...                  ...            ...   \n",
      "182                    2.08                 8916           1705   \n",
      "183                   12.50                   10              0   \n",
      "184                   57.98                 1619             72   \n",
      "185                    4.97                 3326           1226   \n",
      "186                    6.64                 1713            991   \n",
      "\n",
      "     1 week % increase             WHO Region  \n",
      "0                 2.07  Eastern Mediterranean  \n",
      "1                17.00                 Europe  \n",
      "2                18.07                 Africa  \n",
      "3                 2.60                 Europe  \n",
      "4                26.84                 Africa  \n",
      "..                 ...                    ...  \n",
      "182              19.12  Eastern Mediterranean  \n",
      "183               0.00                 Africa  \n",
      "184               4.45  Eastern Mediterranean  \n",
      "185              36.86                 Africa  \n",
      "186              57.85                 Africa  \n",
      "\n",
      "[187 rows x 15 columns]\n"
     ]
    }
   ],
   "source": [
    "print(\"\\nFiltered Data (Confirmed Cases >= 10):\")\n",
    "print(report.filter_low_case_records())"
   ]
  },
  {
   "cell_type": "code",
   "execution_count": 20,
   "id": "fc510f86",
   "metadata": {},
   "outputs": [
    {
     "name": "stdout",
     "output_type": "stream",
     "text": [
      "\n",
      "Region with Highest Confirmed Cases:\n",
      "Americas\n"
     ]
    }
   ],
   "source": [
    "print(\"\\nRegion with Highest Confirmed Cases:\")\n",
    "print(report.region_with_highest_cases())"
   ]
  },
  {
   "cell_type": "code",
   "execution_count": 21,
   "id": "6df60caa",
   "metadata": {},
   "outputs": [
    {
     "name": "stdout",
     "output_type": "stream",
     "text": [
      "\n",
      "Saving sorted data to 'sorted_covid_data.csv'...\n",
      "sorted_data:\n",
      "             Country/Region  Confirmed  Deaths  Recovered   Active  New cases  \\\n",
      "173                     US    4290259  148011    1325804  2816444      56336   \n",
      "23                  Brazil    2442375   87618    1846641   508116      23284   \n",
      "79                   India    1480073   33408     951166   495499      44457   \n",
      "138                 Russia     816680   13334     602249   201097       5607   \n",
      "154           South Africa     452529    7067     274925   170537       7096   \n",
      "..                     ...        ...     ...        ...      ...        ...   \n",
      "49                Dominica         18       0         18        0          0   \n",
      "140  Saint Kitts and Nevis         17       0         15        2          0   \n",
      "68               Greenland         14       0         13        1          1   \n",
      "75                Holy See         12       0         12        0          0   \n",
      "183         Western Sahara         10       1          8        1          0   \n",
      "\n",
      "     New deaths  New recovered  Deaths / 100 Cases  Recovered / 100 Cases  \\\n",
      "173        1076          27941                3.45                  30.90   \n",
      "23          614          33728                3.59                  75.61   \n",
      "79          637          33598                2.26                  64.26   \n",
      "138          85           3077                1.63                  73.74   \n",
      "154         298           9848                1.56                  60.75   \n",
      "..          ...            ...                 ...                    ...   \n",
      "49            0              0                0.00                 100.00   \n",
      "140           0              0                0.00                  88.24   \n",
      "68            0              0                0.00                  92.86   \n",
      "75            0              0                0.00                 100.00   \n",
      "183           0              0               10.00                  80.00   \n",
      "\n",
      "     Deaths / 100 Recovered  Confirmed last week  1 week change  \\\n",
      "173                   11.16              3834677         455582   \n",
      "23                     4.74              2118646         323729   \n",
      "79                     3.51              1155338         324735   \n",
      "138                    2.21               776212          40468   \n",
      "154                    2.57               373628          78901   \n",
      "..                      ...                  ...            ...   \n",
      "49                     0.00                   18              0   \n",
      "140                    0.00                   17              0   \n",
      "68                     0.00                   13              1   \n",
      "75                     0.00                   12              0   \n",
      "183                   12.50                   10              0   \n",
      "\n",
      "     1 week % increase       WHO Region  \n",
      "173              11.88         Americas  \n",
      "23               15.28         Americas  \n",
      "79               28.11  South-East Asia  \n",
      "138               5.21           Europe  \n",
      "154              21.12           Africa  \n",
      "..                 ...              ...  \n",
      "49                0.00         Americas  \n",
      "140               0.00         Americas  \n",
      "68                7.69           Europe  \n",
      "75                0.00           Europe  \n",
      "183               0.00           Africa  \n",
      "\n",
      "[187 rows x 15 columns]\n"
     ]
    }
   ],
   "source": [
    "print(\"\\nSaving sorted data to 'sorted_covid_data.csv'...\")\n",
    "sorted_data = report.save_sorted_data('c:/Users/2276038/Desktop/Learning/python/assignments/Assignment_week4/sorted_covid_data.csv')\n",
    "print(\"sorted_data:\\n\", sorted_data)"
   ]
  },
  {
   "cell_type": "code",
   "execution_count": 22,
   "id": "59bbe845",
   "metadata": {},
   "outputs": [
    {
     "name": "stdout",
     "output_type": "stream",
     "text": [
      "\n",
      "Top 5 Countries by Confirmed Cases:\n",
      "Country/Region  Confirmed\n",
      "            US    4290259\n",
      "        Brazil    2442375\n",
      "         India    1480073\n",
      "        Russia     816680\n",
      "  South Africa     452529\n"
     ]
    }
   ],
   "source": [
    "print(\"\\nTop 5 Countries by Confirmed Cases:\")\n",
    "print(report.top_5_countries_by_case_count().to_string(index=False))  # When printing to console  "
   ]
  },
  {
   "cell_type": "code",
   "execution_count": 23,
   "id": "353b4483",
   "metadata": {},
   "outputs": [
    {
     "name": "stdout",
     "output_type": "stream",
     "text": [
      "\n",
      "Region with Lowest Death Count:\n",
      "Western Pacific\n"
     ]
    }
   ],
   "source": [
    "print(\"\\nRegion with Lowest Death Count:\")\n",
    "print(report.region_with_lowest_death_count_cases())"
   ]
  },
  {
   "cell_type": "code",
   "execution_count": 24,
   "id": "56ba5c7a",
   "metadata": {},
   "outputs": [
    {
     "name": "stdout",
     "output_type": "stream",
     "text": [
      "\n",
      "India Case Summary:\n",
      "Country/Region  Confirmed  Deaths  Recovered  Active  New cases  New deaths  New recovered  Deaths / 100 Cases  Recovered / 100 Cases  Deaths / 100 Recovered  Confirmed last week  1 week change  1 week % increase      WHO Region\n",
      "         India    1480073   33408     951166  495499      44457         637          33598                2.26                  64.26                    3.51              1155338         324735              28.11 South-East Asia\n"
     ]
    }
   ],
   "source": [
    "print(\"\\nIndia Case Summary:\")\n",
    "print(report.india_case_summary())"
   ]
  },
  {
   "cell_type": "code",
   "execution_count": 25,
   "id": "9517945a",
   "metadata": {},
   "outputs": [
    {
     "name": "stdout",
     "output_type": "stream",
     "text": [
      "\n",
      "Mortality Rate by Region (%):\n",
      "WHO Region\n",
      "Africa                   1.690111\n",
      "Americas                 3.877372\n",
      "Eastern Mediterranean    2.571803\n",
      "Europe                   6.399228\n",
      "South-East Asia          2.252987\n",
      "Western Pacific          2.820865\n",
      "dtype: float64\n"
     ]
    }
   ],
   "source": [
    "print(\"\\nMortality Rate by Region (%):\")\n",
    "print(report.mortality_rate_by_region())"
   ]
  },
  {
   "cell_type": "code",
   "execution_count": 26,
   "id": "48302664",
   "metadata": {},
   "outputs": [
    {
     "name": "stdout",
     "output_type": "stream",
     "text": [
      "\n",
      "Recovery Rate by Region (%):\n",
      "WHO Region\n",
      "Africa                   60.929305\n",
      "Americas                 50.554038\n",
      "Eastern Mediterranean    80.590631\n",
      "Europe                   60.424583\n",
      "South-East Asia          63.037917\n",
      "Western Pacific          70.708003\n",
      "dtype: float64\n"
     ]
    }
   ],
   "source": [
    "print(\"\\nRecovery Rate by Region (%):\")\n",
    "print(report.compare_recovery_rates())"
   ]
  },
  {
   "cell_type": "code",
   "execution_count": 27,
   "id": "23eb1a53",
   "metadata": {},
   "outputs": [
    {
     "name": "stdout",
     "output_type": "stream",
     "text": [
      "\n",
      "Outliers in Confirmed Cases:\n",
      "    Country/Region  Confirmed  Deaths  Recovered   Active  New cases  \\\n",
      "23          Brazil    2442375   87618    1846641   508116      23284   \n",
      "79           India    1480073   33408     951166   495499      44457   \n",
      "173             US    4290259  148011    1325804  2816444      56336   \n",
      "\n",
      "     New deaths  New recovered  Deaths / 100 Cases  Recovered / 100 Cases  \\\n",
      "23          614          33728                3.59                  75.61   \n",
      "79          637          33598                2.26                  64.26   \n",
      "173        1076          27941                3.45                  30.90   \n",
      "\n",
      "     Deaths / 100 Recovered  Confirmed last week  1 week change  \\\n",
      "23                     4.74              2118646         323729   \n",
      "79                     3.51              1155338         324735   \n",
      "173                   11.16              3834677         455582   \n",
      "\n",
      "     1 week % increase       WHO Region  \n",
      "23               15.28         Americas  \n",
      "79               28.11  South-East Asia  \n",
      "173              11.88         Americas  \n"
     ]
    }
   ],
   "source": [
    "print(\"\\nOutliers in Confirmed Cases:\")\n",
    "print(report.detect_outliers())"
   ]
  },
  {
   "cell_type": "code",
   "execution_count": 28,
   "id": "213389a6",
   "metadata": {},
   "outputs": [
    {
     "name": "stdout",
     "output_type": "stream",
     "text": [
      "\n",
      "Group by Country Counts:\n",
      "         Country/Region  Counts\n",
      "0           Afghanistan       1\n",
      "1               Albania       1\n",
      "2               Algeria       1\n",
      "3               Andorra       1\n",
      "4                Angola       1\n",
      "..                  ...     ...\n",
      "182  West Bank and Gaza       1\n",
      "183      Western Sahara       1\n",
      "184               Yemen       1\n",
      "185              Zambia       1\n",
      "186            Zimbabwe       1\n",
      "\n",
      "[187 rows x 2 columns]\n"
     ]
    }
   ],
   "source": [
    "print(\"\\nGroup by Country Counts:\")\n",
    "print(report.group_by_country())"
   ]
  },
  {
   "cell_type": "code",
   "execution_count": 29,
   "id": "364f2ff5",
   "metadata": {},
   "outputs": [
    {
     "name": "stdout",
     "output_type": "stream",
     "text": [
      "\n",
      "Countries with Zero Recovered Cases:\n",
      "32          Canada\n",
      "117     Mozambique\n",
      "147         Serbia\n",
      "161         Sweden\n",
      "163          Syria\n",
      "168    Timor-Leste\n",
      "Name: Country/Region, dtype: object\n"
     ]
    }
   ],
   "source": [
    "print(\"\\nCountries with Zero Recovered Cases:\")\n",
    "print(report.country_with_zero_recovered_cases())"
   ]
  }
 ],
 "metadata": {
  "kernelspec": {
   "display_name": ".venv",
   "language": "python",
   "name": "python3"
  },
  "language_info": {
   "codemirror_mode": {
    "name": "ipython",
    "version": 3
   },
   "file_extension": ".py",
   "mimetype": "text/x-python",
   "name": "python",
   "nbconvert_exporter": "python",
   "pygments_lexer": "ipython3",
   "version": "3.13.3"
  }
 },
 "nbformat": 4,
 "nbformat_minor": 5
}
