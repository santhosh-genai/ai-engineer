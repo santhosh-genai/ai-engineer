{
 "cells": [
  {
   "cell_type": "code",
   "execution_count": 8,
   "id": "5a941ca1",
   "metadata": {},
   "outputs": [],
   "source": [
    "import pandas as pd"
   ]
  },
  {
   "cell_type": "code",
   "execution_count": 9,
   "id": "b825b118",
   "metadata": {},
   "outputs": [],
   "source": [
    "class Dataset:\n",
    "    def __init__(self, filepath):\n",
    "        self.filepath = filepath\n",
    "\n",
    "    def load_data(self):\n",
    "        self.data = pd.read_csv(self.filepath)\n",
    "        return self.data"
   ]
  },
  {
   "cell_type": "code",
   "execution_count": 10,
   "id": "eb99928f",
   "metadata": {},
   "outputs": [],
   "source": [
    "class CovidReport(Dataset):\n",
    "    def __init__(self, filepath):\n",
    "        super().__init__(filepath)\n",
    "        self.data = self.load_data()\n",
    "\n",
    "    # Summarize Case Counts by Region\n",
    "        # Display total confirmed, death, and recovered cases for each region.\n",
    "    def summarize_cases_by_region(self):\n",
    "        summary = self.data.groupby('WHO Region').agg({\n",
    "            'Confirmed': 'sum',\n",
    "            'Deaths': 'sum',\n",
    "            'Recovered': 'sum',\n",
    "            'Active': 'sum'\n",
    "        }).reset_index()\n",
    "        return summary\n",
    "\n",
    "    # Filter Low Case Records\n",
    "        # Exclude entries where confirmed cases are < 10.\n",
    "    def filter_low_case_records(self):\n",
    "        self.data = self.data[self.data['Confirmed'] >= 10]\n",
    "        return self.data\n",
    "    \n",
    "    # Identify Region with Highest Confirmed Cases\n",
    "    def region_with_highest_cases(self):\n",
    "        region = self.data.groupby('WHO Region')['Confirmed'].sum().idxmax()\n",
    "        return region\n",
    "\n",
    "    # Sort data by Confirmed Cases and Save to CSV\n",
    "    def save_sorted_data(self, output_filepath):\n",
    "        sorted_data = self.data.sort_values(by='Confirmed', ascending=False)\n",
    "        sorted_data.to_csv(output_filepath, index=False)\n",
    "        return sorted_data\n",
    "\n",
    "    # Top 5 Countries by Case Count\n",
    "    def top_5_countries_by_case_count(self):\n",
    "        return self.data.sort_values('Confirmed', ascending=False).head(5)[['Country/Region', 'Confirmed']]\n",
    "\n",
    "    # Region with Lowest Death Count\n",
    "    def region_with_lowest_death_count_cases(self):\n",
    "        region = self.data.groupby('WHO Region')['Deaths'].sum().idxmin()\n",
    "        return region\n",
    "    \n",
    "    # India Case Summary\n",
    "    def india_case_summary(self):\n",
    "        return self.data[self.data['Country/Region'] == 'India'].to_string(index=False)\n",
    "    \n",
    "    # Mortality Rate by Region\n",
    "    def mortality_rate_by_region(self):\n",
    "        region = self.data.groupby('WHO Region')['Deaths'].sum() / self.data.groupby('WHO Region')['Confirmed'].sum() * 100\n",
    "        return region\n",
    "    \n",
    "    # Recovery Rate by Region\n",
    "    def compare_recovery_rates(self):\n",
    "        region = self.data.groupby('WHO Region')['Recovered'].sum() / self.data.groupby('WHO Region')['Confirmed'].sum() * 100\n",
    "        return region\n",
    "\n",
    "    # Detect Outliers in Case Counts\n",
    "    def detect_outliers(self):\n",
    "        mean = self.data['Confirmed'].mean()\n",
    "        std_dev = self.data['Confirmed'].std()\n",
    "\n",
    "        threshold_upper = mean + 2 * std_dev\n",
    "        threshold_lower = mean - 2 * std_dev\n",
    "\n",
    "        outliers = self.data[(self.data['Confirmed'] > threshold_upper) | (self.data['Confirmed'] < threshold_lower)]\n",
    "        return outliers\n",
    "    \n",
    "    # Group by Country Counts\n",
    "    def group_by_country(self):\n",
    "        return self.data.groupby('Country/Region').size().reset_index(name='Counts')\n",
    "    \n",
    "    # Countries with Zero Recovered Cases\n",
    "    def country_with_zero_recovered_cases(self):\n",
    "        return self.data[self.data['Recovered'] == 0]['Country/Region']\n"
   ]
  },
  {
   "cell_type": "code",
   "execution_count": null,
   "id": "2db3fca8",
   "metadata": {},
   "outputs": [],
   "source": [
    "if __name__ == \"__main__\": \n",
    "    report = CovidReport('c:/Users/2276038/Desktop/Learning/python/assignments/Assignment_week4/country_wise_latest.csv')\n",
    "    print(\"COVID-19 Cases Summary by Region:\")\n",
    "    print(report.summarize_cases_by_region())"
   ]
  },
  {
   "cell_type": "code",
   "execution_count": null,
   "id": "c4a7a293",
   "metadata": {},
   "outputs": [],
   "source": [
    "print(\"\\nFiltered Data (Confirmed Cases >= 10):\")\n",
    "print(report.filter_low_case_records())"
   ]
  },
  {
   "cell_type": "code",
   "execution_count": null,
   "id": "fc510f86",
   "metadata": {},
   "outputs": [],
   "source": [
    "print(\"\\nRegion with Highest Confirmed Cases:\")\n",
    "print(report.region_with_highest_cases())"
   ]
  },
  {
   "cell_type": "code",
   "execution_count": null,
   "id": "6df60caa",
   "metadata": {},
   "outputs": [],
   "source": [
    "print(\"\\nSaving sorted data to 'sorted_covid_data.csv'...\")\n",
    "sorted_data = report.save_sorted_data('c:/Users/2276038/Desktop/Learning/python/assignments/Assignment_week4/sorted_covid_data.csv')\n",
    "print(\"sorted_data:\\n\", sorted_data)"
   ]
  },
  {
   "cell_type": "code",
   "execution_count": null,
   "id": "59bbe845",
   "metadata": {},
   "outputs": [],
   "source": [
    "print(\"\\nTop 5 Countries by Confirmed Cases:\")\n",
    "print(report.top_5_countries_by_case_count().to_string(index=False))  # When printing to console  "
   ]
  },
  {
   "cell_type": "code",
   "execution_count": null,
   "id": "353b4483",
   "metadata": {},
   "outputs": [],
   "source": [
    "print(\"\\nRegion with Lowest Death Count:\")\n",
    "print(report.region_with_lowest_death_count_cases())"
   ]
  },
  {
   "cell_type": "code",
   "execution_count": null,
   "id": "56ba5c7a",
   "metadata": {},
   "outputs": [],
   "source": [
    "print(\"\\nIndia Case Summary:\")\n",
    "print(report.india_case_summary())"
   ]
  },
  {
   "cell_type": "code",
   "execution_count": null,
   "id": "9517945a",
   "metadata": {},
   "outputs": [],
   "source": [
    "print(\"\\nMortality Rate by Region (%):\")\n",
    "print(report.mortality_rate_by_region())"
   ]
  },
  {
   "cell_type": "code",
   "execution_count": 12,
   "id": "48302664",
   "metadata": {},
   "outputs": [
    {
     "name": "stdout",
     "output_type": "stream",
     "text": [
      "\n",
      "Recovery Rate by Region (%):\n",
      "WHO Region\n",
      "Africa                   60.929305\n",
      "Americas                 50.554038\n",
      "Eastern Mediterranean    80.590631\n",
      "Europe                   60.424583\n",
      "South-East Asia          63.037917\n",
      "Western Pacific          70.708003\n",
      "dtype: float64\n"
     ]
    }
   ],
   "source": [
    "print(\"\\nRecovery Rate by Region (%):\")\n",
    "print(report.compare_recovery_rates())"
   ]
  },
  {
   "cell_type": "code",
   "execution_count": 13,
   "id": "23eb1a53",
   "metadata": {},
   "outputs": [
    {
     "name": "stdout",
     "output_type": "stream",
     "text": [
      "\n",
      "Outliers in Confirmed Cases:\n",
      "    Country/Region  Confirmed  Deaths  Recovered   Active  New cases  \\\n",
      "23          Brazil    2442375   87618    1846641   508116      23284   \n",
      "79           India    1480073   33408     951166   495499      44457   \n",
      "173             US    4290259  148011    1325804  2816444      56336   \n",
      "\n",
      "     New deaths  New recovered  Deaths / 100 Cases  Recovered / 100 Cases  \\\n",
      "23          614          33728                3.59                  75.61   \n",
      "79          637          33598                2.26                  64.26   \n",
      "173        1076          27941                3.45                  30.90   \n",
      "\n",
      "     Deaths / 100 Recovered  Confirmed last week  1 week change  \\\n",
      "23                     4.74              2118646         323729   \n",
      "79                     3.51              1155338         324735   \n",
      "173                   11.16              3834677         455582   \n",
      "\n",
      "     1 week % increase       WHO Region  \n",
      "23               15.28         Americas  \n",
      "79               28.11  South-East Asia  \n",
      "173              11.88         Americas  \n"
     ]
    }
   ],
   "source": [
    "print(\"\\nOutliers in Confirmed Cases:\")\n",
    "print(report.detect_outliers())"
   ]
  },
  {
   "cell_type": "code",
   "execution_count": 14,
   "id": "213389a6",
   "metadata": {},
   "outputs": [
    {
     "name": "stdout",
     "output_type": "stream",
     "text": [
      "\n",
      "Group by Country Counts:\n",
      "         Country/Region  Counts\n",
      "0           Afghanistan       1\n",
      "1               Albania       1\n",
      "2               Algeria       1\n",
      "3               Andorra       1\n",
      "4                Angola       1\n",
      "..                  ...     ...\n",
      "182  West Bank and Gaza       1\n",
      "183      Western Sahara       1\n",
      "184               Yemen       1\n",
      "185              Zambia       1\n",
      "186            Zimbabwe       1\n",
      "\n",
      "[187 rows x 2 columns]\n"
     ]
    }
   ],
   "source": [
    "print(\"\\nGroup by Country Counts:\")\n",
    "print(report.group_by_country())"
   ]
  },
  {
   "cell_type": "code",
   "execution_count": null,
   "id": "364f2ff5",
   "metadata": {},
   "outputs": [],
   "source": [
    "print(\"\\nCountries with Zero Recovered Cases:\")\n",
    "print(report.country_with_zero_recovered_cases())"
   ]
  }
 ],
 "metadata": {
  "kernelspec": {
   "display_name": ".venv",
   "language": "python",
   "name": "python3"
  },
  "language_info": {
   "codemirror_mode": {
    "name": "ipython",
    "version": 3
   },
   "file_extension": ".py",
   "mimetype": "text/x-python",
   "name": "python",
   "nbconvert_exporter": "python",
   "pygments_lexer": "ipython3",
   "version": "3.13.3"
  }
 },
 "nbformat": 4,
 "nbformat_minor": 5
}
